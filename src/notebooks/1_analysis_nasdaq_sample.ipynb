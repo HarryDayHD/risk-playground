{
 "cells": [
  {
   "cell_type": "markdown",
   "metadata": {},
   "source": [
    "# Exploring the Sharadar sample data set"
   ]
  },
  {
   "cell_type": "code",
   "execution_count": null,
   "metadata": {},
   "outputs": [],
   "source": [
    "import pandas as pd\n",
    "import nasdaqdatalink as nasdaq"
   ]
  },
  {
   "cell_type": "markdown",
   "metadata": {},
   "source": [
    "## Advertised sample tickers"
   ]
  },
  {
   "cell_type": "code",
   "execution_count": null,
   "metadata": {},
   "outputs": [],
   "source": [
    "sample_tickers = pd.DataFrame([\n",
    "    (\"AAPL\",\"APPLE INC\"),\n",
    "    (\"AXP\",\"AMER EXPRESS CO\"),\n",
    "    (\"BA\",\"BOEING CO\"),\n",
    "    (\"CAT\",\"CATERPILLAR INC\"),\n",
    "    (\"CSCO\",\"CISCO SYSTEMS\"),\n",
    "    (\"CVX\",\"CHEVRON CORP\"),\n",
    "    (\"DD\",\"DU PONT (EI) DE\"),\n",
    "    (\"DIS\",\"DISNEY WALT\"),\n",
    "    (\"GE\",\"GENL ELECTRIC\"),\n",
    "    (\"GS\",\"GOLDMAN SACHS\"),\n",
    "    (\"HD\",\"HOME DEPOT\"),\n",
    "    (\"IBM\",\"INTL BUS MACH\"),\n",
    "    (\"INTC\",\"INTEL CORP\"),\n",
    "    (\"JNJ\",\"JOHNSON & JOHNS\"),\n",
    "    (\"JPM\",\"JPMORGAN CHASE\"),\n",
    "    (\"KO\",\"COCA COLA CO\"),\n",
    "    (\"MCD\",\"MCDONALDS CORP\"),\n",
    "    (\"MMM\",\"3M CO\"),\n",
    "    (\"MRK\",\"MERCK & CO INC\"),\n",
    "    (\"MSFT\",\"MICROSOFT CORP\"),\n",
    "    (\"NKE\",\"NIKE INC-B\"),\n",
    "    (\"PFE\",\"PFIZER INC\"),\n",
    "    (\"PG\",\"PROCTER & GAMBL\"),\n",
    "    (\"TRV\",\"TRAVELERS COS\"),\n",
    "    (\"UNH\",\"UNITEDHEALTH GP\"),\n",
    "    (\"UTX\",\"UTD TECHS CORP\"),\n",
    "    (\"V\",\"VISA INC-A\"),\n",
    "    (\"VZ\",\"VERIZON COMM\"),\n",
    "    (\"WMT\",\"WALMART INC\"),\n",
    "    (\"XOM\",\"EXXON MOBIL CRP\"),\n",
    "], columns=['Ticker', 'Company Name'])\n",
    "sample_tickers"
   ]
  },
  {
   "cell_type": "code",
   "execution_count": null,
   "metadata": {},
   "outputs": [],
   "source": [
    "price_data = nasdaq.get_table(\"SHARADAR/SEP\")\n",
    "price_data"
   ]
  },
  {
   "cell_type": "code",
   "execution_count": null,
   "metadata": {},
   "outputs": [],
   "source": [
    "tickers_fetched = price_data['ticker'].unique()\n",
    "tickers_fetched"
   ]
  },
  {
   "cell_type": "code",
   "execution_count": null,
   "metadata": {},
   "outputs": [],
   "source": [
    "number_tickers_fetched = len(tickers_fetched)\n",
    "number_tickers_fetched # 30, matches the sample they indicate they offer"
   ]
  },
  {
   "cell_type": "code",
   "execution_count": null,
   "metadata": {},
   "outputs": [],
   "source": [
    "min_date = price_data['date'].min()\n",
    "max_date = price_data['date'].max()\n",
    "\n",
    "(min_date, max_date)"
   ]
  },
  {
   "cell_type": "markdown",
   "metadata": {},
   "source": [
    "## Checking quality"
   ]
  },
  {
   "cell_type": "code",
   "execution_count": null,
   "metadata": {},
   "outputs": [],
   "source": [
    "import matplotlib.pyplot as plt\n",
    "import seaborn as sns"
   ]
  },
  {
   "cell_type": "code",
   "execution_count": null,
   "metadata": {},
   "outputs": [],
   "source": [
    "# Sort the data by ticker and date just to ensure proper order, then calc returns\n",
    "price_data = price_data.sort_values(by=['ticker', 'date'])\n",
    "\n",
    "price_data['asset_return'] = price_data.groupby('ticker')['close'].pct_change()\n",
    "\n",
    "price_data = price_data.dropna() # Lazy\n",
    "\n",
    "# Histogram and KDE (Kernel Density Estimate) for each ticker's daily returns\n",
    "plt.figure(figsize=(14, 7))\n",
    "sns.histplot(price_data['asset_return'], kde=True, bins=50, color='skyblue', stat=\"density\", linewidth=0)\n",
    "plt.title('Distribution of Daily Returns for All Tickers')\n",
    "plt.xlabel('Daily Return')\n",
    "plt.ylabel('Density')\n",
    "plt.show()"
   ]
  },
  {
   "cell_type": "code",
   "execution_count": null,
   "metadata": {},
   "outputs": [],
   "source": [
    "# Volatility (Standard Deviation of Returns)\n",
    "volatility = price_data.groupby('ticker')['asset_return'].std()\n",
    "\n",
    "plt.figure(figsize=(14, 7))\n",
    "volatility.sort_values().plot(kind='bar', color='skyblue')\n",
    "plt.title('Volatility (Standard Deviation) of Daily Returns for Each Ticker')\n",
    "plt.xlabel('Ticker')\n",
    "plt.ylabel('Volatility (Std. Dev.)')\n",
    "plt.show()"
   ]
  },
  {
   "cell_type": "code",
   "execution_count": null,
   "metadata": {},
   "outputs": [],
   "source": [
    "# Cumulative Returns\n",
    "price_data['cumulative_return'] = (1 + price_data['asset_return']).groupby(price_data['ticker']).cumprod() - 1\n",
    "\n",
    "plt.figure(figsize=(14, 7))\n",
    "for ticker in price_data['ticker'].unique():\n",
    "    ticker_data = price_data[price_data['ticker'] == ticker]\n",
    "    plt.plot(ticker_data['date'], ticker_data['cumulative_return'], label=ticker)\n",
    "\n",
    "plt.title('Cumulative Returns Over Time')\n",
    "plt.xlabel('Date')\n",
    "plt.ylabel('Cumulative Return')\n",
    "plt.legend(loc='upper left', bbox_to_anchor=(1, 1), ncol=2, fontsize=8)\n",
    "plt.show()"
   ]
  }
 ],
 "metadata": {
  "kernelspec": {
   "display_name": "risk-playground-yKpwBUWU-py3.12",
   "language": "python",
   "name": "python3"
  },
  "language_info": {
   "codemirror_mode": {
    "name": "ipython",
    "version": 3
   },
   "file_extension": ".py",
   "mimetype": "text/x-python",
   "name": "python",
   "nbconvert_exporter": "python",
   "pygments_lexer": "ipython3",
   "version": "3.12.5"
  }
 },
 "nbformat": 4,
 "nbformat_minor": 2
}
