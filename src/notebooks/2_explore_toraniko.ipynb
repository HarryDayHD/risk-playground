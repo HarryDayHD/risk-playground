{
 "cells": [
  {
   "cell_type": "markdown",
   "metadata": {},
   "source": [
    "# Explore the toraniko API"
   ]
  },
  {
   "cell_type": "code",
   "execution_count": null,
   "metadata": {},
   "outputs": [],
   "source": [
    "import pandas as pd\n",
    "import nasdaqdatalink as nasdaq\n",
    "import polars as pl\n",
    "\n",
    "import matplotlib.pyplot as plt\n",
    "import seaborn as sns\n"
   ]
  },
  {
   "cell_type": "markdown",
   "metadata": {},
   "source": [
    "## Fetch sample data"
   ]
  },
  {
   "cell_type": "code",
   "execution_count": null,
   "metadata": {},
   "outputs": [],
   "source": [
    "price_data_df = nasdaq.get_table(\"SHARADAR/SEP\")\n",
    "price_data_df"
   ]
  },
  {
   "cell_type": "code",
   "execution_count": null,
   "metadata": {},
   "outputs": [],
   "source": [
    "# Prep\n",
    "price_data_df = price_data_df.sort_values(by=['ticker', 'date'])\n",
    "\n",
    "price_data_df['asset_returns'] = price_data_df.groupby('ticker')['close'].pct_change()\n",
    "price_data_df = price_data_df.dropna() # Lazy\n",
    "\n",
    "price_data_df.rename(columns={'ticker': 'symbol'}, inplace=True)\n"
   ]
  },
  {
   "cell_type": "code",
   "execution_count": null,
   "metadata": {},
   "outputs": [],
   "source": [
    "# Bodge into polars\n",
    "price_data = pl.from_pandas(price_data_df)"
   ]
  },
  {
   "cell_type": "markdown",
   "metadata": {},
   "source": [
    "# Run toraniko"
   ]
  },
  {
   "cell_type": "code",
   "execution_count": null,
   "metadata": {},
   "outputs": [],
   "source": [
    "from toraniko.styles import factor_mom\n",
    "\n",
    "#mom_df = factor_mom(price_data.select(\"symbol\", \"date\", \"asset_returns\"), trailing_days=252, winsor_factor=0.01).collect()\n",
    "# Using a small sample here (4 months) so reducing the trailing days. Need to consider the maths on this...\n",
    "mom_df = factor_mom(price_data.select(\"symbol\", \"date\", \"asset_returns\"), trailing_days=10, winsor_factor=0.01).collect()\n",
    "mom_df"
   ]
  },
  {
   "cell_type": "code",
   "execution_count": null,
   "metadata": {},
   "outputs": [],
   "source": [
    "plt.figure(figsize=(14, 7))\n",
    "sns.histplot(mom_df['mom_score'], kde=True, bins=50, color='skyblue', stat=\"density\", linewidth=0)\n",
    "plt.title('mom_score')\n",
    "plt.xlabel('mom_score')\n",
    "plt.ylabel('Density')\n",
    "plt.show()"
   ]
  }
 ],
 "metadata": {
  "kernelspec": {
   "display_name": "risk-playground-yKpwBUWU-py3.12",
   "language": "python",
   "name": "python3"
  },
  "language_info": {
   "codemirror_mode": {
    "name": "ipython",
    "version": 3
   },
   "file_extension": ".py",
   "mimetype": "text/x-python",
   "name": "python",
   "nbconvert_exporter": "python",
   "pygments_lexer": "ipython3",
   "version": "3.12.5"
  }
 },
 "nbformat": 4,
 "nbformat_minor": 2
}
