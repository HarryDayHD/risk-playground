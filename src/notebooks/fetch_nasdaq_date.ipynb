{
 "cells": [
  {
   "cell_type": "markdown",
   "metadata": {},
   "source": [
    "# Exploring the Sharadar sample data set"
   ]
  },
  {
   "cell_type": "code",
   "execution_count": null,
   "metadata": {},
   "outputs": [],
   "source": [
    "import pandas as pd\n",
    "import nasdaqdatalink as nasdaq"
   ]
  },
  {
   "cell_type": "markdown",
   "metadata": {},
   "source": [
    "## Advertised sample tickers"
   ]
  },
  {
   "cell_type": "code",
   "execution_count": null,
   "metadata": {},
   "outputs": [],
   "source": [
    "sample_tickers = pd.DataFrame([\n",
    "    (\"AAPL\",\"APPLE INC\"),\n",
    "    (\"AXP\",\"AMER EXPRESS CO\"),\n",
    "    (\"BA\",\"BOEING CO\"),\n",
    "    (\"CAT\",\"CATERPILLAR INC\"),\n",
    "    (\"CSCO\",\"CISCO SYSTEMS\"),\n",
    "    (\"CVX\",\"CHEVRON CORP\"),\n",
    "    (\"DD\",\"DU PONT (EI) DE\"),\n",
    "    (\"DIS\",\"DISNEY WALT\"),\n",
    "    (\"GE\",\"GENL ELECTRIC\"),\n",
    "    (\"GS\",\"GOLDMAN SACHS\"),\n",
    "    (\"HD\",\"HOME DEPOT\"),\n",
    "    (\"IBM\",\"INTL BUS MACH\"),\n",
    "    (\"INTC\",\"INTEL CORP\"),\n",
    "    (\"JNJ\",\"JOHNSON & JOHNS\"),\n",
    "    (\"JPM\",\"JPMORGAN CHASE\"),\n",
    "    (\"KO\",\"COCA COLA CO\"),\n",
    "    (\"MCD\",\"MCDONALDS CORP\"),\n",
    "    (\"MMM\",\"3M CO\"),\n",
    "    (\"MRK\",\"MERCK & CO INC\"),\n",
    "    (\"MSFT\",\"MICROSOFT CORP\"),\n",
    "    (\"NKE\",\"NIKE INC-B\"),\n",
    "    (\"PFE\",\"PFIZER INC\"),\n",
    "    (\"PG\",\"PROCTER & GAMBL\"),\n",
    "    (\"TRV\",\"TRAVELERS COS\"),\n",
    "    (\"UNH\",\"UNITEDHEALTH GP\"),\n",
    "    (\"UTX\",\"UTD TECHS CORP\"),\n",
    "    (\"V\",\"VISA INC-A\"),\n",
    "    (\"VZ\",\"VERIZON COMM\"),\n",
    "    (\"WMT\",\"WALMART INC\"),\n",
    "    (\"XOM\",\"EXXON MOBIL CRP\"),\n",
    "], columns=['Ticker', 'Company Name'])\n",
    "sample_tickers"
   ]
  },
  {
   "cell_type": "code",
   "execution_count": null,
   "metadata": {},
   "outputs": [],
   "source": [
    "price_data = nasdaq.get_table(\"SHARADAR/SEP\")\n",
    "price_data"
   ]
  },
  {
   "cell_type": "code",
   "execution_count": null,
   "metadata": {},
   "outputs": [],
   "source": [
    "tickers_fetched = price_data['ticker'].unique()\n",
    "tickers_fetched"
   ]
  },
  {
   "cell_type": "code",
   "execution_count": null,
   "metadata": {},
   "outputs": [],
   "source": [
    "number_tickers_fetched = len(tickers_fetched)\n",
    "number_tickers_fetched # 30, matches the sample they indicate they offer"
   ]
  },
  {
   "cell_type": "code",
   "execution_count": null,
   "metadata": {},
   "outputs": [],
   "source": [
    "min_date = price_data['date'].min()\n",
    "max_date = price_data['date'].max()\n",
    "\n",
    "f\"Min date: {min_date}, max date: {max_date}\""
   ]
  },
  {
   "cell_type": "markdown",
   "metadata": {},
   "source": [
    "## Checking quality"
   ]
  },
  {
   "cell_type": "code",
   "execution_count": null,
   "metadata": {},
   "outputs": [],
   "source": []
  }
 ],
 "metadata": {
  "kernelspec": {
   "display_name": "risk-playground-yKpwBUWU-py3.12",
   "language": "python",
   "name": "python3"
  },
  "language_info": {
   "codemirror_mode": {
    "name": "ipython",
    "version": 3
   },
   "file_extension": ".py",
   "mimetype": "text/x-python",
   "name": "python",
   "nbconvert_exporter": "python",
   "pygments_lexer": "ipython3",
   "version": "3.12.5"
  }
 },
 "nbformat": 4,
 "nbformat_minor": 2
}
